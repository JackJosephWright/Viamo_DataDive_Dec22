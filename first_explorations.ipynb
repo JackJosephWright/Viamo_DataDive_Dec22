{
  "cells": [
    {
      "cell_type": "code",
      "execution_count": 1,
      "metadata": {
        "id": "D5uj4_bHN3Gv"
      },
      "outputs": [],
      "source": [
        "import os\n",
        "import pandas as pd\n",
        "from google.cloud import bigquery"
      ]
    },
    {
      "cell_type": "code",
      "execution_count": null,
      "metadata": {
        "id": "57FdRTtbN3Gx"
      },
      "outputs": [],
      "source": [
        "#Set environment variable. \n",
        "#Note: Adjust path to were you stored your json file\n",
        "os.environ[\"GOOGLE_APPLICATION_CREDENTIALS\"]=f'.{os.sep}viamo-datakind-d8808acb1538.json'"
      ]
    },
    {
      "cell_type": "code",
      "execution_count": null,
      "metadata": {
        "id": "0ibOXUPiN3Gy"
      },
      "outputs": [],
      "source": [
        "#Note: adjust paramenters in SQL query according to your needs\n",
        "query = \"SELECT * FROM `viamo-datakind.datadive.321_sessions_1122` LIMIT 1000\""
      ]
    },
    {
      "cell_type": "code",
      "execution_count": null,
      "metadata": {
        "id": "G0CjIqdaN3Gz"
      },
      "outputs": [],
      "source": [
        "#Pull data from BigQuery and store in pandas DataFrame\n",
        "\n",
        "Bigquery_client = bigquery.Client()\n",
        "\n",
        "df = pd.read_gbq(query)"
      ]
    },
    {
      "cell_type": "code",
      "execution_count": null,
      "metadata": {
        "id": "52n6P4hhN3G0"
      },
      "outputs": [],
      "source": [
        "display(df)"
      ]
    },
    {
      "cell_type": "code",
      "execution_count": null,
      "metadata": {
        "id": "5vgfXRK8N3G1"
      },
      "outputs": [],
      "source": []
    },
    {
      "cell_type": "code",
      "execution_count": null,
      "metadata": {
        "id": "zbMlNyYiN3G1"
      },
      "outputs": [],
      "source": []
    }
  ],
  "metadata": {
    "kernelspec": {
      "display_name": "Python 3.10.8 64-bit (microsoft store)",
      "language": "python",
      "name": "python3"
    },
    "language_info": {
      "codemirror_mode": {
        "name": "ipython",
        "version": 3
      },
      "file_extension": ".py",
      "mimetype": "text/x-python",
      "name": "python",
      "nbconvert_exporter": "python",
      "pygments_lexer": "ipython3",
      "version": "3.10.8"
    },
    "orig_nbformat": 4,
    "vscode": {
      "interpreter": {
        "hash": "386038103efbe34b5d9bf3957442620bdb2a38853cfc13c324bb58fbad3cacff"
      }
    },
    "colab": {
      "provenance": []
    }
  },
  "nbformat": 4,
  "nbformat_minor": 0
}